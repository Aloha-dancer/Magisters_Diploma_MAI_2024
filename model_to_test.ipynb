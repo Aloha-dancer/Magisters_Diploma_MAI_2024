{
 "cells": [
  {
   "cell_type": "code",
   "execution_count": 1,
   "id": "844d95ed-9726-47bd-bca6-e21553aaae5f",
   "metadata": {},
   "outputs": [
    {
     "name": "stderr",
     "output_type": "stream",
     "text": [
      "Using backend: pytorch\n",
      "Other supported backends: tensorflow.compat.v1, tensorflow, jax, paddle.\n",
      "paddle supports more examples now and is recommended.\n"
     ]
    }
   ],
   "source": [
    "\"\"\"Backend supported: tensorflow.compat.v1, tensorflow, pytorch, paddle\"\"\"\n",
    "import deepxde as dde\n",
    "import numpy as np\n",
    "import matplotlib.pyplot as plt\n",
    "import torch\n",
    "\n",
    "a = 1\n",
    "d = 1\n",
    "Re = 4e-4\n",
    "Pe = 2.8e-4\n",
    "Nu = 0.023 * Re ** (0.8) * 0.7 ** 0.4\n",
    "torch.set_default_device('cuda')\n",
    "def pde(x, u):\n",
    "    u_vel, v_vel, w_vel, p, Thetta = u[:, 0:1], u[:, 1:2], u[:, 2:3], u[:, 3:4], u[:, 4:5]\n",
    "    u_vel_x = dde.grad.jacobian(u, x, i=0, j=0)\n",
    "    u_vel_y = dde.grad.jacobian(u, x, i=0, j=1)\n",
    "    u_vel_z = dde.grad.jacobian(u, x, i=0, j=2)\n",
    "    u_vel_t = dde.grad.jacobian(u, x, i=0, j=3)\n",
    "    u_vel_xx = dde.grad.hessian(u, x, component=0, i=0, j=0)\n",
    "    u_vel_yy = dde.grad.hessian(u, x, component=0, i=1, j=1)\n",
    "    u_vel_zz = dde.grad.hessian(u, x, component=0, i=2, j=2)\n",
    "\n",
    "    v_vel_x = dde.grad.jacobian(u, x, i=1, j=0)\n",
    "    v_vel_y = dde.grad.jacobian(u, x, i=1, j=1)\n",
    "    v_vel_z = dde.grad.jacobian(u, x, i=1, j=2)\n",
    "    v_vel_t = dde.grad.jacobian(u, x, i=1, j=3)\n",
    "    v_vel_xx = dde.grad.hessian(u, x, component=1, i=0, j=0)\n",
    "    v_vel_yy = dde.grad.hessian(u, x, component=1, i=1, j=1)\n",
    "    v_vel_zz = dde.grad.hessian(u, x, component=1, i=2, j=2)\n",
    "\n",
    "    w_vel_x = dde.grad.jacobian(u, x, i=2, j=0)\n",
    "    w_vel_y = dde.grad.jacobian(u, x, i=2, j=1)\n",
    "    w_vel_z = dde.grad.jacobian(u, x, i=2, j=2)\n",
    "    w_vel_t = dde.grad.jacobian(u, x, i=2, j=3)\n",
    "    w_vel_xx = dde.grad.hessian(u, x, component=2, i=0, j=0)\n",
    "    w_vel_yy = dde.grad.hessian(u, x, component=2, i=1, j=1)\n",
    "    w_vel_zz = dde.grad.hessian(u, x, component=2, i=2, j=2)\n",
    "\n",
    "    p_x = dde.grad.jacobian(u, x, i=3, j=0)\n",
    "    p_y = dde.grad.jacobian(u, x, i=3, j=1)\n",
    "    p_z = dde.grad.jacobian(u, x, i=3, j=2)\n",
    "    \n",
    "    Thetta_dt = dde.grad.jacobian(u, x, i = 4, j = 3)\n",
    "\n",
    "    Thetta_dxx = dde.grad.hessian(u, x, component = 4, i = 0, j = 0)\n",
    "    Thetta_dyy = dde.grad.hessian(u, x, component = 4, i = 1, j = 1)\n",
    "    Thetta_dzz = dde.grad.hessian(u, x, component = 4, i = 2, j = 2)\n",
    "    \n",
    "    energy_x = Thetta_dt + (u_vel_x + u_vel_y + u_vel_z) * Thetta - 1 / Pe * (Thetta_dxx + Thetta_dyy + Thetta_dzz)\n",
    "    energy_y = Thetta_dt + (v_vel_x + v_vel_y + v_vel_z) * Thetta - 1 / Pe * (Thetta_dxx + Thetta_dyy + Thetta_dzz)\n",
    "    energy_z = Thetta_dt + (w_vel_x + w_vel_y + w_vel_z) * Thetta - 1 / Pe * (Thetta_dxx + Thetta_dyy + Thetta_dzz)\n",
    "    \n",
    "    momentum_x = (\n",
    "        u_vel_t\n",
    "        + (u_vel * u_vel_x + v_vel * u_vel_y + w_vel * u_vel_z)\n",
    "        + p_x\n",
    "        - 1 / Re * (u_vel_xx + u_vel_yy + u_vel_zz)\n",
    "    )\n",
    "    momentum_y = (\n",
    "        v_vel_t\n",
    "        + (u_vel * v_vel_x + v_vel * v_vel_y + w_vel * v_vel_z)\n",
    "        + p_y\n",
    "        - 1 / Re * (v_vel_xx + v_vel_yy + v_vel_zz)\n",
    "    )\n",
    "    momentum_z = (\n",
    "        w_vel_t\n",
    "        + (u_vel * w_vel_x + v_vel * w_vel_y + w_vel * w_vel_z)\n",
    "        + p_z\n",
    "        - 1 / Re * (w_vel_xx + w_vel_yy + w_vel_zz)\n",
    "    )\n",
    "    continuity = u_vel_x + v_vel_y + w_vel_z\n",
    "\n",
    "    energy = torch.sqrt(torch.square(energy_x) +\n",
    "                        torch.square(energy_y) +\n",
    "                        torch.square(energy_z))\n",
    "    return [momentum_x, momentum_y, momentum_z, continuity, energy]\n"
   ]
  },
  {
   "cell_type": "code",
   "execution_count": 2,
   "id": "f7a5d483-8513-44cd-997a-816dd650de66",
   "metadata": {
    "tags": []
   },
   "outputs": [],
   "source": [
    "def u_func(x):\n",
    "    return (\n",
    "        -a\n",
    "        * (\n",
    "            np.exp(a * x[:, 0:1]) * np.sin(a * x[:, 1:2] + d * x[:, 2:3])\n",
    "            + np.exp(a * x[:, 2:3]) * np.cos(a * x[:, 0:1] + d * x[:, 1:2])\n",
    "        )\n",
    "        * np.exp(-(d ** 2) * x[:, 3:4])\n",
    "    )\n",
    "\n",
    "\n",
    "def v_func(x):\n",
    "    return (\n",
    "        -a\n",
    "        * (\n",
    "            np.exp(a * x[:, 1:2]) * np.sin(a * x[:, 2:3] + d * x[:, 0:1])\n",
    "            + np.exp(a * x[:, 0:1]) * np.cos(a * x[:, 1:2] + d * x[:, 2:3])\n",
    "        )\n",
    "        * np.exp(-(d ** 2) * x[:, 3:4])\n",
    "    )\n",
    "\n",
    "\n",
    "def w_func(x):\n",
    "    return (\n",
    "        -a\n",
    "        * (\n",
    "            np.exp(a * x[:, 2:3]) * np.sin(a * x[:, 0:1] + d * x[:, 1:2])\n",
    "            + np.exp(a * x[:, 1:2]) * np.cos(a * x[:, 2:3] + d * x[:, 0:1])\n",
    "        )\n",
    "        * np.exp(-(d ** 2) * x[:, 3:4])\n",
    "    )\n",
    "\n",
    "\n",
    "def p_func(x):\n",
    "    return (\n",
    "        -0.5\n",
    "        * a ** 2\n",
    "        * (\n",
    "            np.exp(2 * a * x[:, 0:1])\n",
    "            + np.exp(2 * a * x[:, 1:2])\n",
    "            + np.exp(2 * a * x[:, 2:3])\n",
    "            + 2\n",
    "            * np.sin(a * x[:, 0:1] + d * x[:, 1:2])\n",
    "            * np.cos(a * x[:, 2:3] + d * x[:, 0:1])\n",
    "            * np.exp(a * (x[:, 1:2] + x[:, 2:3]))\n",
    "            + 2\n",
    "            * np.sin(a * x[:, 1:2] + d * x[:, 2:3])\n",
    "            * np.cos(a * x[:, 0:1] + d * x[:, 1:2])\n",
    "            * np.exp(a * (x[:, 2:3] + x[:, 0:1]))\n",
    "            + 2\n",
    "            * np.sin(a * x[:, 2:3] + d * x[:, 0:1])\n",
    "            * np.cos(a * x[:, 1:2] + d * x[:, 2:3])\n",
    "            * np.exp(a * (x[:, 0:1] + x[:, 1:2]))\n",
    "        )\n",
    "        * np.exp(-2 * d ** 2 * x[:, 3:4])\n",
    "    )"
   ]
  },
  {
   "cell_type": "code",
   "execution_count": 3,
   "id": "227d68f3-be6b-4b37-81e8-6d2c5d93df75",
   "metadata": {
    "tags": []
   },
   "outputs": [],
   "source": [
    "spatial_domain = dde.geometry.Cuboid(xmin=[-2, -2, -2], xmax=[2, 2, 2])\n",
    "spatial_plate = dde.geometry.Cuboid(xmin = [-0.5, -1, -0.125], xmax = [0.5, 1, 0.125])\n",
    "\n",
    "new_domain = dde.geometry.CSGUnion(spatial_domain,\n",
    "                                   spatial_plate)\n",
    "\n",
    "temporal_domain = dde.geometry.TimeDomain(0, 1)\n",
    "spatio_temporal_domain = dde.geometry.GeometryXTime(new_domain, \n",
    "                                                    temporal_domain)"
   ]
  },
  {
   "cell_type": "code",
   "execution_count": 4,
   "id": "c1aa050c-b2c9-4e5d-bedc-dd6cfa2b15f6",
   "metadata": {
    "tags": []
   },
   "outputs": [],
   "source": [
    "test = spatio_temporal_domain.random_points(n = 100)"
   ]
  },
  {
   "cell_type": "code",
   "execution_count": 6,
   "id": "6e42af19-61d3-498d-b3a6-64519d427d04",
   "metadata": {
    "tags": []
   },
   "outputs": [],
   "source": [
    "boundary_condition_u = dde.icbc.DirichletBC(\n",
    "    spatio_temporal_domain, u_func, lambda _, on_boundary: on_boundary, component=0\n",
    ")\n",
    "boundary_condition_v = dde.icbc.DirichletBC(\n",
    "    spatio_temporal_domain, v_func, lambda _, on_boundary: on_boundary, component=1\n",
    ")\n",
    "boundary_condition_w = dde.icbc.DirichletBC(\n",
    "    spatio_temporal_domain, w_func, lambda _, on_boundary: on_boundary, component=2\n",
    ")\n",
    "\n",
    "boundary_condition_theta = dde.icbc.NeumannBC(\n",
    "    spatio_temporal_domain, lambda x: Nu * (383 - 291), lambda _, on_boundary: on_boundary, component = 4\n",
    ")\n",
    "\n",
    "initial_condition_u = dde.icbc.IC(\n",
    "    spatio_temporal_domain, lambda x: 1, lambda _, on_initial: on_initial, component=0\n",
    ")\n",
    "initial_condition_v = dde.icbc.IC(\n",
    "    spatio_temporal_domain, lambda x: 1, lambda _, on_initial: on_initial, component=1\n",
    ")\n",
    "initial_condition_w = dde.icbc.IC(\n",
    "    spatio_temporal_domain, lambda x: 1, lambda _, on_initial: on_initial, component=2\n",
    ")\n",
    "initial_condition_theta = dde.icbc.IC(\n",
    "    spatio_temporal_domain, lambda x: 383 if np.all(np.any(np.isclose(x[:, :3], \n",
    "                                                                np.array([-0.5, -1, -0.125])\n",
    "                                                               ), axis = 0\n",
    "                                                    ) |\n",
    "                                              np.any(np.isclose(x[:, :3],\n",
    "                                                                np.array([0.5, 1, 0.125])\n",
    "                                                               ), axis = 0\n",
    "                                                    )) else 291, lambda _, on_initial: on_initial, component = 4)\n",
    "initial_condition_p = dde.icbc.IC(\n",
    "    spatio_temporal_domain, lambda x: 1e5, lambda _, on_initial: on_initial, component = 3\n",
    ")"
   ]
  },
  {
   "cell_type": "code",
   "execution_count": 7,
   "id": "29a468b9-bab6-42f0-a5a7-37dd4f58a3b0",
   "metadata": {
    "tags": []
   },
   "outputs": [
    {
     "name": "stdout",
     "output_type": "stream",
     "text": [
      "Warning: CSGUnion.uniform_points not implemented. Use random_points instead.\n",
      "Warning: 10000 points required, but 10400 points sampled.\n"
     ]
    }
   ],
   "source": [
    "data = dde.data.TimePDE(\n",
    "    spatio_temporal_domain,\n",
    "    pde,\n",
    "    [\n",
    "        boundary_condition_u,\n",
    "        boundary_condition_v,\n",
    "        boundary_condition_w,\n",
    "        boundary_condition_theta,\n",
    "        initial_condition_u,\n",
    "        initial_condition_v,\n",
    "        initial_condition_w,\n",
    "        initial_condition_theta\n",
    "    ],\n",
    "    num_domain=50000,\n",
    "    num_boundary=5000,\n",
    "    num_initial=5000,\n",
    "    num_test=10000,\n",
    ")\n",
    "\n",
    "net = dde.nn.FNN([4] + 4 * [50] + [5], \"tanh\", \"Glorot normal\")"
   ]
  },
  {
   "cell_type": "code",
   "execution_count": 8,
   "id": "df98eb7c-1fc7-4a69-b2f5-9dc5a7332370",
   "metadata": {
    "tags": []
   },
   "outputs": [],
   "source": [
    "torch.cuda.empty_cache()"
   ]
  },
  {
   "cell_type": "code",
   "execution_count": 9,
   "id": "af02ea2e-dabf-4a4d-8468-39dbc99eb9d2",
   "metadata": {
    "tags": []
   },
   "outputs": [
    {
     "name": "stdout",
     "output_type": "stream",
     "text": [
      "Compiling model...\n",
      "'compile' took 1.157782 s\n",
      "\n",
      "Training model...\n",
      "\n",
      "Step      Train loss                                                                                                                  Test loss                                                                                                                   Test metric\n",
      "0         [3.62e+05, 1.59e+05, 1.82e+05, 4.59e-02, 2.66e+05, 5.50e+00, 6.22e+00, 6.07e+00, 5.87e-03, 1.17e+00, 1.13e+00, 1.10e+00]    [3.73e+05, 1.56e+05, 1.84e+05, 4.49e-02, 2.67e+05, 5.50e+00, 6.22e+00, 6.07e+00, 5.87e-03, 1.17e+00, 1.13e+00, 1.10e+00]    []  \n",
      "1000      [1.80e+01, 1.45e+01, 1.16e+01, 5.14e-04, 2.64e+01, 6.06e+00, 5.98e+00, 6.18e+00, 2.12e-04, 2.94e-01, 3.97e-01, 2.71e-01]    [1.59e+01, 1.42e+01, 1.11e+01, 5.26e-04, 2.61e+01, 6.06e+00, 5.98e+00, 6.18e+00, 2.12e-04, 2.94e-01, 3.97e-01, 2.71e-01]    []  \n",
      "2000      [5.02e+00, 4.97e+00, 3.34e+00, 4.01e-04, 9.57e+00, 6.09e+00, 6.09e+00, 6.19e+00, 1.14e-04, 2.52e-01, 2.58e-01, 2.60e-01]    [4.58e+00, 5.10e+00, 3.19e+00, 4.11e-04, 9.41e+00, 6.09e+00, 6.09e+00, 6.19e+00, 1.14e-04, 2.52e-01, 2.58e-01, 2.60e-01]    []  \n",
      "3000      [1.98e+00, 2.39e+00, 1.56e+00, 4.14e-04, 4.28e+00, 6.09e+00, 6.10e+00, 6.19e+00, 7.19e-05, 2.54e-01, 2.53e-01, 2.60e-01]    [1.83e+00, 2.51e+00, 1.52e+00, 4.23e-04, 4.23e+00, 6.09e+00, 6.10e+00, 6.19e+00, 7.19e-05, 2.54e-01, 2.53e-01, 2.60e-01]    []  \n",
      "4000      [9.78e-01, 1.24e+00, 8.02e-01, 4.73e-04, 1.92e+00, 6.09e+00, 6.11e+00, 6.19e+00, 5.05e-05, 2.55e-01, 2.55e-01, 2.59e-01]    [9.02e-01, 1.33e+00, 7.98e-01, 4.81e-04, 1.89e+00, 6.09e+00, 6.11e+00, 6.19e+00, 5.05e-05, 2.55e-01, 2.55e-01, 2.59e-01]    []  \n",
      "5000      [5.66e-01, 6.80e-01, 4.57e-01, 4.73e-04, 9.38e-01, 6.08e+00, 6.11e+00, 6.19e+00, 3.80e-05, 2.56e-01, 2.56e-01, 2.59e-01]    [5.23e-01, 7.26e-01, 4.62e-01, 4.81e-04, 9.18e-01, 6.08e+00, 6.11e+00, 6.19e+00, 3.80e-05, 2.56e-01, 2.56e-01, 2.59e-01]    []  \n",
      "6000      [3.25e-01, 3.76e-01, 2.72e-01, 4.21e-04, 5.08e-01, 6.08e+00, 6.11e+00, 6.19e+00, 3.01e-05, 2.57e-01, 2.56e-01, 2.59e-01]    [3.03e-01, 3.96e-01, 2.76e-01, 4.27e-04, 4.94e-01, 6.08e+00, 6.11e+00, 6.19e+00, 3.01e-05, 2.57e-01, 2.56e-01, 2.59e-01]    []  \n",
      "7000      [1.96e-01, 2.19e-01, 1.68e-01, 3.78e-04, 2.92e-01, 6.08e+00, 6.11e+00, 6.19e+00, 2.45e-05, 2.58e-01, 2.56e-01, 2.58e-01]    [1.84e-01, 2.25e-01, 1.70e-01, 3.83e-04, 2.81e-01, 6.08e+00, 6.11e+00, 6.19e+00, 2.45e-05, 2.58e-01, 2.56e-01, 2.58e-01]    []  \n",
      "8000      [1.31e-01, 1.36e-01, 1.12e-01, 3.44e-04, 1.65e-01, 6.08e+00, 6.11e+00, 6.19e+00, 2.11e-05, 2.59e-01, 2.56e-01, 2.58e-01]    [1.22e-01, 1.37e-01, 1.12e-01, 3.49e-04, 1.54e-01, 6.08e+00, 6.11e+00, 6.19e+00, 2.11e-05, 2.59e-01, 2.56e-01, 2.58e-01]    []  \n",
      "9000      [7.96e-02, 7.99e-02, 7.03e-02, 3.38e-04, 9.20e-02, 6.08e+00, 6.11e+00, 6.18e+00, 1.64e-05, 2.59e-01, 2.56e-01, 2.58e-01]    [7.51e-02, 7.88e-02, 7.00e-02, 3.42e-04, 8.60e-02, 6.08e+00, 6.11e+00, 6.18e+00, 1.64e-05, 2.59e-01, 2.56e-01, 2.58e-01]    []  \n",
      "10000     [4.77e-02, 5.15e-02, 4.33e-02, 2.96e-04, 5.14e-02, 6.07e+00, 6.11e+00, 6.18e+00, 1.55e-05, 2.59e-01, 2.56e-01, 2.58e-01]    [4.47e-02, 5.06e-02, 4.26e-02, 2.98e-04, 4.76e-02, 6.07e+00, 6.11e+00, 6.18e+00, 1.55e-05, 2.59e-01, 2.56e-01, 2.58e-01]    []  \n",
      "11000     [2.93e-02, 2.97e-02, 2.75e-02, 2.57e-04, 2.92e-02, 6.07e+00, 6.11e+00, 6.18e+00, 1.39e-05, 2.59e-01, 2.56e-01, 2.57e-01]    [2.78e-02, 2.88e-02, 2.68e-02, 2.59e-04, 2.77e-02, 6.07e+00, 6.11e+00, 6.18e+00, 1.39e-05, 2.59e-01, 2.56e-01, 2.57e-01]    []  \n",
      "12000     [2.24e-02, 2.28e-02, 1.86e-02, 1.25e-04, 1.97e-02, 6.07e+00, 6.11e+00, 6.18e+00, 1.42e-05, 2.59e-01, 2.55e-01, 2.56e-01]    [2.06e-02, 2.25e-02, 1.85e-02, 1.26e-04, 1.84e-02, 6.07e+00, 6.11e+00, 6.18e+00, 1.42e-05, 2.59e-01, 2.55e-01, 2.56e-01]    []  \n",
      "13000     [1.75e-02, 1.37e-02, 1.31e-02, 7.78e-05, 1.13e-02, 6.07e+00, 6.10e+00, 6.17e+00, 1.28e-05, 2.58e-01, 2.54e-01, 2.54e-01]    [1.59e-02, 1.32e-02, 1.31e-02, 7.83e-05, 1.08e-02, 6.07e+00, 6.10e+00, 6.17e+00, 1.28e-05, 2.58e-01, 2.54e-01, 2.54e-01]    []  \n",
      "14000     [1.09e-02, 9.70e-03, 7.98e-03, 1.75e-05, 7.20e-03, 6.07e+00, 6.10e+00, 6.16e+00, 1.29e-05, 2.56e-01, 2.53e-01, 2.52e-01]    [1.01e-02, 9.08e-03, 8.04e-03, 1.77e-05, 7.02e-03, 6.07e+00, 6.10e+00, 6.16e+00, 1.29e-05, 2.56e-01, 2.53e-01, 2.52e-01]    []  \n",
      "15000     [1.11e-02, 9.85e-03, 9.58e-03, 1.67e-06, 8.49e-03, 6.06e+00, 6.09e+00, 6.16e+00, 1.25e-05, 2.53e-01, 2.49e-01, 2.47e-01]    [1.03e-02, 8.59e-03, 9.95e-03, 1.75e-06, 8.65e-03, 6.06e+00, 6.09e+00, 6.16e+00, 1.25e-05, 2.53e-01, 2.49e-01, 2.47e-01]    []  \n",
      "16000     [9.85e-03, 7.45e-03, 6.35e-03, 8.88e-06, 4.18e-03, 6.05e+00, 6.07e+00, 6.14e+00, 1.26e-05, 2.46e-01, 2.41e-01, 2.38e-01]    [9.73e-03, 6.86e-03, 6.77e-03, 8.42e-06, 4.11e-03, 6.05e+00, 6.07e+00, 6.14e+00, 1.26e-05, 2.46e-01, 2.41e-01, 2.38e-01]    []  \n",
      "17000     [1.16e-02, 1.26e-02, 1.37e-02, 4.82e-05, 2.74e-01, 6.03e+00, 6.05e+00, 6.12e+00, 1.23e-05, 2.26e-01, 2.18e-01, 2.15e-01]    [1.11e-02, 1.39e-02, 1.65e-02, 4.64e-05, 3.31e-01, 6.03e+00, 6.05e+00, 6.12e+00, 1.23e-05, 2.26e-01, 2.18e-01, 2.15e-01]    []  \n",
      "18000     [1.87e-02, 2.12e-02, 2.12e-02, 1.23e-04, 7.85e-03, 5.97e+00, 5.98e+00, 6.05e+00, 1.25e-05, 1.50e-01, 1.35e-01, 1.42e-01]    [1.77e-02, 2.06e-02, 2.30e-02, 1.19e-04, 7.88e-03, 5.97e+00, 5.98e+00, 6.05e+00, 1.25e-05, 1.50e-01, 1.35e-01, 1.42e-01]    []  \n",
      "19000     [1.73e-02, 1.46e-02, 2.15e-02, 2.27e-04, 5.61e-03, 5.93e+00, 5.96e+00, 6.01e+00, 1.25e-05, 4.86e-02, 4.11e-02, 4.62e-02]    [1.60e-02, 1.36e-02, 2.09e-02, 2.10e-04, 5.61e-03, 5.93e+00, 5.96e+00, 6.01e+00, 1.25e-05, 4.86e-02, 4.11e-02, 4.62e-02]    []  \n",
      "20000     [1.15e-02, 1.07e-02, 1.28e-02, 2.02e-04, 4.16e-03, 5.90e+00, 5.93e+00, 5.99e+00, 1.26e-05, 2.89e-02, 2.64e-02, 2.41e-02]    [1.01e-02, 1.02e-02, 1.19e-02, 1.61e-04, 3.97e-03, 5.90e+00, 5.93e+00, 5.99e+00, 1.26e-05, 2.89e-02, 2.64e-02, 2.41e-02]    []  \n",
      "21000     [1.22e-02, 1.06e-02, 9.52e-03, 9.15e-05, 4.25e-03, 5.87e+00, 5.90e+00, 5.97e+00, 1.26e-05, 2.35e-02, 2.57e-02, 2.08e-02]    [9.97e-03, 9.23e-03, 9.04e-03, 6.69e-05, 4.32e-03, 5.87e+00, 5.90e+00, 5.97e+00, 1.26e-05, 2.35e-02, 2.57e-02, 2.08e-02]    []  \n",
      "22000     [9.62e-03, 1.40e-02, 1.02e-02, 2.66e-04, 3.29e-03, 5.85e+00, 5.88e+00, 5.95e+00, 1.26e-05, 1.82e-02, 1.58e-02, 1.36e-02]    [7.77e-03, 1.28e-02, 8.62e-03, 2.04e-04, 3.01e-03, 5.85e+00, 5.88e+00, 5.95e+00, 1.26e-05, 1.82e-02, 1.58e-02, 1.36e-02]    []  \n",
      "23000     [7.23e-03, 6.96e-03, 7.47e-03, 5.96e-05, 2.21e-03, 5.83e+00, 5.86e+00, 5.94e+00, 1.25e-05, 1.08e-02, 1.17e-02, 9.42e-03]    [5.55e-03, 5.25e-03, 6.14e-03, 5.15e-05, 1.97e-03, 5.83e+00, 5.86e+00, 5.94e+00, 1.25e-05, 1.08e-02, 1.17e-02, 9.42e-03]    []  \n",
      "24000     [7.72e-03, 5.77e-03, 5.55e-03, 5.26e-05, 1.91e-03, 5.80e+00, 5.84e+00, 5.92e+00, 1.25e-05, 1.18e-02, 9.00e-03, 8.73e-03]    [6.17e-03, 3.92e-03, 4.76e-03, 4.60e-05, 1.83e-03, 5.80e+00, 5.84e+00, 5.92e+00, 1.25e-05, 1.18e-02, 9.00e-03, 8.73e-03]    []  \n",
      "25000     [9.47e-03, 9.95e-03, 1.09e-02, 1.66e-04, 1.45e-03, 5.78e+00, 5.80e+00, 5.88e+00, 1.31e-05, 1.16e-02, 1.10e-02, 1.11e-02]    [6.99e-03, 6.64e-03, 7.58e-03, 1.45e-04, 1.25e-03, 5.78e+00, 5.80e+00, 5.88e+00, 1.31e-05, 1.16e-02, 1.10e-02, 1.11e-02]    []  \n",
      "26000     [7.72e-03, 6.67e-03, 5.66e-03, 2.83e-04, 1.39e-03, 5.75e+00, 5.78e+00, 5.86e+00, 1.27e-05, 1.25e-02, 1.21e-02, 1.22e-02]    [6.23e-03, 5.18e-03, 4.40e-03, 2.71e-04, 1.12e-03, 5.75e+00, 5.78e+00, 5.86e+00, 1.27e-05, 1.25e-02, 1.21e-02, 1.22e-02]    []  \n",
      "27000     [8.36e-03, 5.61e-03, 5.42e-03, 2.48e-04, 9.24e-04, 5.73e+00, 5.78e+00, 5.85e+00, 1.30e-05, 1.51e-02, 8.68e-03, 1.25e-02]    [6.76e-03, 3.67e-03, 3.93e-03, 2.53e-04, 7.88e-04, 5.73e+00, 5.78e+00, 5.85e+00, 1.30e-05, 1.51e-02, 8.68e-03, 1.25e-02]    []  \n",
      "28000     [1.14e-01, 6.88e-02, 6.27e-02, 5.12e-04, 5.66e-02, 5.71e+00, 5.75e+00, 5.82e+00, 1.64e-05, 1.55e-02, 1.36e-02, 1.39e-02]    [7.41e-02, 2.62e-02, 5.00e-02, 5.35e-04, 5.16e-02, 5.71e+00, 5.75e+00, 5.82e+00, 1.64e-05, 1.55e-02, 1.36e-02, 1.39e-02]    []  \n",
      "29000     [6.89e-03, 5.94e-03, 5.57e-03, 9.49e-05, 7.67e-04, 5.72e+00, 5.74e+00, 5.81e+00, 1.26e-05, 1.21e-02, 1.28e-02, 1.54e-02]    [4.94e-03, 3.85e-03, 3.91e-03, 5.99e-05, 6.43e-04, 5.72e+00, 5.74e+00, 5.81e+00, 1.26e-05, 1.21e-02, 1.28e-02, 1.54e-02]    []  \n",
      "30000     [6.68e-03, 5.24e-03, 5.52e-03, 8.84e-04, 7.20e-04, 5.68e+00, 5.71e+00, 5.79e+00, 1.29e-05, 1.97e-02, 1.70e-02, 1.63e-02]    [4.75e-03, 3.55e-03, 3.71e-03, 9.68e-04, 5.61e-04, 5.68e+00, 5.71e+00, 5.79e+00, 1.29e-05, 1.97e-02, 1.70e-02, 1.63e-02]    []  \n",
      "\n",
      "Best model at step 30000:\n",
      "  train loss: 1.73e+01\n",
      "  test loss: 1.72e+01\n",
      "  test metric: []\n",
      "\n",
      "'train' took 6179.560959 s\n",
      "\n"
     ]
    }
   ],
   "source": [
    "model = dde.Model(data, net)\n",
    "\n",
    "model.compile(\"adam\", lr=1e-3, loss_weights=[1, 1, 1, 1, 1] + [1] * 7)\n",
    "losshistory, trainstate = model.train(iterations=30000)"
   ]
  },
  {
   "cell_type": "code",
   "execution_count": 103,
   "id": "f5d36d6e-f421-4896-8082-9b70c9dc14ce",
   "metadata": {
    "tags": []
   },
   "outputs": [
    {
     "data": {
      "text/plain": [
       "Text(0.5, 1.0, 'Temperature loss distribution')"
      ]
     },
     "execution_count": 103,
     "metadata": {},
     "output_type": "execute_result"
    },
    {
     "data": {
      "image/png": "[encoded data removed]",
      "text/plain": [
       "<Figure size 640x480 with 1 Axes>"
      ]
     },
     "metadata": {},
     "output_type": "display_data"
    }
   ],
   "source": [
    "plt.plot(losshistory.steps[4:],\n",
    "         np.array(losshistory.loss_train)[4:, 4:5]\n",
    "        )\n",
    "plt.plot(losshistory.steps[4:],\n",
    "         np.array(losshistory.loss_test)[4:, 4:5])\n",
    "plt.grid()\n",
    "plt.legend(['Temperature train loss',\n",
    "            'Temperature test loss'])\n",
    "plt.title('Temperature loss distribution')"
   ]
  },
  {
   "cell_type": "code",
   "execution_count": 101,
   "id": "2c5bed3b-9bfc-4d9f-b1af-32f0f67cbba7",
   "metadata": {
    "tags": []
   },
   "outputs": [
    {
     "data": {
      "image/png": "[encoded data removed]",
      "text/plain": [
       "<Figure size 640x480 with 1 Axes>"
      ]
     },
     "metadata": {},
     "output_type": "display_data"
    }
   ],
   "source": [
    "plt.plot(losshistory.steps[3:],\n",
    "         np.mean(np.array(losshistory.loss_train).T, axis = 0)[3:])\n",
    "plt.plot(losshistory.steps[3:],\n",
    "         np.mean(np.array(losshistory.loss_test).T, axis = 0)[3:],\n",
    "        alpha = 0.6)\n",
    "plt.grid()\n",
    "plt.show()"
   ]
  },
  {
   "cell_type": "code",
   "execution_count": 81,
   "id": "3a779edf-f9e6-4094-90d9-71c57a0980bf",
   "metadata": {
    "tags": []
   },
   "outputs": [
    {
     "name": "stdout",
     "output_type": "stream",
     "text": [
      "Compiling model...\n",
      "'compile' took 0.001401 s\n",
      "\n",
      "Training model...\n",
      "\n",
      "Step      Train loss                                                                                                                  Test loss                                                                                                                   Test metric\n",
      "30000     [6.68e-03, 5.24e-03, 5.52e-03, 8.84e-04, 7.20e-04, 5.68e+00, 5.71e+00, 5.79e+00, 1.29e-05, 1.97e-02, 1.70e-02, 1.63e-02]    [4.75e-03, 3.55e-03, 3.71e-03, 9.68e-04, 5.61e-04, 5.68e+00, 5.71e+00, 5.79e+00, 1.29e-05, 1.97e-02, 1.70e-02, 1.63e-02]    []  \n",
      "31000     [5.83e-03, 7.36e-03, 7.23e-03, 3.29e-03, 2.34e-03, 5.57e+00, 5.58e+00, 5.68e+00, 1.36e-04, 4.84e-02, 4.63e-02, 4.30e-02]    [3.31e-03, 4.83e-03, 5.60e-03, 2.78e-03, 1.72e-03, 5.57e+00, 5.58e+00, 5.68e+00, 1.36e-04, 4.84e-02, 4.63e-02, 4.30e-02]    []  \n"
     ]
    },
    {
     "ename": "KeyboardInterrupt",
     "evalue": "",
     "output_type": "error",
     "traceback": [
      "\u001b[1;31m---------------------------------------------------------------------------\u001b[0m",
      "\u001b[1;31mKeyboardInterrupt\u001b[0m                         Traceback (most recent call last)",
      "Cell \u001b[1;32mIn[81], line 2\u001b[0m\n\u001b[0;32m      1\u001b[0m model\u001b[38;5;241m.\u001b[39mcompile(\u001b[38;5;124m\"\u001b[39m\u001b[38;5;124mL-BFGS\u001b[39m\u001b[38;5;124m\"\u001b[39m, loss_weights\u001b[38;5;241m=\u001b[39m[\u001b[38;5;241m1\u001b[39m, \u001b[38;5;241m1\u001b[39m, \u001b[38;5;241m1\u001b[39m, \u001b[38;5;241m1\u001b[39m, \u001b[38;5;241m1\u001b[39m] \u001b[38;5;241m+\u001b[39m [\u001b[38;5;241m1\u001b[39m] \u001b[38;5;241m*\u001b[39m \u001b[38;5;241m7\u001b[39m)\n\u001b[1;32m----> 2\u001b[0m losshistory, train_state \u001b[38;5;241m=\u001b[39m model\u001b[38;5;241m.\u001b[39mtrain()\n",
      "File \u001b[1;32m~\\anaconda3\\Lib\\site-packages\\deepxde\\utils\\internal.py:22\u001b[0m, in \u001b[0;36mtiming.<locals>.wrapper\u001b[1;34m(*args, **kwargs)\u001b[0m\n\u001b[0;32m     19\u001b[0m \u001b[38;5;129m@wraps\u001b[39m(f)\n\u001b[0;32m     20\u001b[0m \u001b[38;5;28;01mdef\u001b[39;00m \u001b[38;5;21mwrapper\u001b[39m(\u001b[38;5;241m*\u001b[39margs, \u001b[38;5;241m*\u001b[39m\u001b[38;5;241m*\u001b[39mkwargs):\n\u001b[0;32m     21\u001b[0m     ts \u001b[38;5;241m=\u001b[39m timeit\u001b[38;5;241m.\u001b[39mdefault_timer()\n\u001b[1;32m---> 22\u001b[0m     result \u001b[38;5;241m=\u001b[39m f(\u001b[38;5;241m*\u001b[39margs, \u001b[38;5;241m*\u001b[39m\u001b[38;5;241m*\u001b[39mkwargs)\n\u001b[0;32m     23\u001b[0m     te \u001b[38;5;241m=\u001b[39m timeit\u001b[38;5;241m.\u001b[39mdefault_timer()\n\u001b[0;32m     24\u001b[0m     \u001b[38;5;28;01mif\u001b[39;00m config\u001b[38;5;241m.\u001b[39mrank \u001b[38;5;241m==\u001b[39m \u001b[38;5;241m0\u001b[39m:\n",
      "File \u001b[1;32m~\\anaconda3\\Lib\\site-packages\\deepxde\\model.py:644\u001b[0m, in \u001b[0;36mModel.train\u001b[1;34m(self, iterations, batch_size, display_every, disregard_previous_best, callbacks, model_restore_path, model_save_path, epochs)\u001b[0m\n\u001b[0;32m    642\u001b[0m     \u001b[38;5;28mself\u001b[39m\u001b[38;5;241m.\u001b[39m_train_tensorflow_tfp()\n\u001b[0;32m    643\u001b[0m \u001b[38;5;28;01melif\u001b[39;00m backend_name \u001b[38;5;241m==\u001b[39m \u001b[38;5;124m\"\u001b[39m\u001b[38;5;124mpytorch\u001b[39m\u001b[38;5;124m\"\u001b[39m:\n\u001b[1;32m--> 644\u001b[0m     \u001b[38;5;28mself\u001b[39m\u001b[38;5;241m.\u001b[39m_train_pytorch_lbfgs()\n\u001b[0;32m    645\u001b[0m \u001b[38;5;28;01melif\u001b[39;00m backend_name \u001b[38;5;241m==\u001b[39m \u001b[38;5;124m\"\u001b[39m\u001b[38;5;124mpaddle\u001b[39m\u001b[38;5;124m\"\u001b[39m:\n\u001b[0;32m    646\u001b[0m     \u001b[38;5;28mself\u001b[39m\u001b[38;5;241m.\u001b[39m_train_paddle_lbfgs()\n",
      "File \u001b[1;32m~\\anaconda3\\Lib\\site-packages\\deepxde\\model.py:766\u001b[0m, in \u001b[0;36mModel._train_pytorch_lbfgs\u001b[1;34m(self)\u001b[0m\n\u001b[0;32m    761\u001b[0m \u001b[38;5;28mself\u001b[39m\u001b[38;5;241m.\u001b[39mcallbacks\u001b[38;5;241m.\u001b[39mon_batch_begin()\n\u001b[0;32m    763\u001b[0m \u001b[38;5;28mself\u001b[39m\u001b[38;5;241m.\u001b[39mtrain_state\u001b[38;5;241m.\u001b[39mset_data_train(\n\u001b[0;32m    764\u001b[0m     \u001b[38;5;241m*\u001b[39m\u001b[38;5;28mself\u001b[39m\u001b[38;5;241m.\u001b[39mdata\u001b[38;5;241m.\u001b[39mtrain_next_batch(\u001b[38;5;28mself\u001b[39m\u001b[38;5;241m.\u001b[39mbatch_size)\n\u001b[0;32m    765\u001b[0m )\n\u001b[1;32m--> 766\u001b[0m \u001b[38;5;28mself\u001b[39m\u001b[38;5;241m.\u001b[39m_train_step(\n\u001b[0;32m    767\u001b[0m     \u001b[38;5;28mself\u001b[39m\u001b[38;5;241m.\u001b[39mtrain_state\u001b[38;5;241m.\u001b[39mX_train,\n\u001b[0;32m    768\u001b[0m     \u001b[38;5;28mself\u001b[39m\u001b[38;5;241m.\u001b[39mtrain_state\u001b[38;5;241m.\u001b[39my_train,\n\u001b[0;32m    769\u001b[0m     \u001b[38;5;28mself\u001b[39m\u001b[38;5;241m.\u001b[39mtrain_state\u001b[38;5;241m.\u001b[39mtrain_aux_vars,\n\u001b[0;32m    770\u001b[0m )\n\u001b[0;32m    772\u001b[0m n_iter \u001b[38;5;241m=\u001b[39m \u001b[38;5;28mself\u001b[39m\u001b[38;5;241m.\u001b[39mopt\u001b[38;5;241m.\u001b[39mstate_dict()[\u001b[38;5;124m\"\u001b[39m\u001b[38;5;124mstate\u001b[39m\u001b[38;5;124m\"\u001b[39m][\u001b[38;5;241m0\u001b[39m][\u001b[38;5;124m\"\u001b[39m\u001b[38;5;124mn_iter\u001b[39m\u001b[38;5;124m\"\u001b[39m]\n\u001b[0;32m    773\u001b[0m \u001b[38;5;28;01mif\u001b[39;00m prev_n_iter \u001b[38;5;241m==\u001b[39m n_iter:\n\u001b[0;32m    774\u001b[0m     \u001b[38;5;66;03m# Converged\u001b[39;00m\n",
      "File \u001b[1;32m~\\anaconda3\\Lib\\site-packages\\deepxde\\model.py:562\u001b[0m, in \u001b[0;36mModel._train_step\u001b[1;34m(self, inputs, targets, auxiliary_vars)\u001b[0m\n\u001b[0;32m    560\u001b[0m     \u001b[38;5;28mself\u001b[39m\u001b[38;5;241m.\u001b[39mtrain_step(inputs, targets, auxiliary_vars)\n\u001b[0;32m    561\u001b[0m \u001b[38;5;28;01melif\u001b[39;00m backend_name \u001b[38;5;241m==\u001b[39m \u001b[38;5;124m\"\u001b[39m\u001b[38;5;124mpytorch\u001b[39m\u001b[38;5;124m\"\u001b[39m:\n\u001b[1;32m--> 562\u001b[0m     \u001b[38;5;28mself\u001b[39m\u001b[38;5;241m.\u001b[39mtrain_step(inputs, targets, auxiliary_vars)\n\u001b[0;32m    563\u001b[0m \u001b[38;5;28;01melif\u001b[39;00m backend_name \u001b[38;5;241m==\u001b[39m \u001b[38;5;124m\"\u001b[39m\u001b[38;5;124mjax\u001b[39m\u001b[38;5;124m\"\u001b[39m:\n\u001b[0;32m    564\u001b[0m     \u001b[38;5;66;03m# TODO: auxiliary_vars\u001b[39;00m\n\u001b[0;32m    565\u001b[0m     \u001b[38;5;28mself\u001b[39m\u001b[38;5;241m.\u001b[39mparams, \u001b[38;5;28mself\u001b[39m\u001b[38;5;241m.\u001b[39mopt_state \u001b[38;5;241m=\u001b[39m \u001b[38;5;28mself\u001b[39m\u001b[38;5;241m.\u001b[39mtrain_step(\n\u001b[0;32m    566\u001b[0m         \u001b[38;5;28mself\u001b[39m\u001b[38;5;241m.\u001b[39mparams, \u001b[38;5;28mself\u001b[39m\u001b[38;5;241m.\u001b[39mopt_state, inputs, targets\n\u001b[0;32m    567\u001b[0m     )\n",
      "File \u001b[1;32m~\\anaconda3\\Lib\\site-packages\\deepxde\\model.py:362\u001b[0m, in \u001b[0;36mModel._compile_pytorch.<locals>.train_step\u001b[1;34m(inputs, targets, auxiliary_vars)\u001b[0m\n\u001b[0;32m    359\u001b[0m     total_loss\u001b[38;5;241m.\u001b[39mbackward()\n\u001b[0;32m    360\u001b[0m     \u001b[38;5;28;01mreturn\u001b[39;00m total_loss\n\u001b[1;32m--> 362\u001b[0m \u001b[38;5;28mself\u001b[39m\u001b[38;5;241m.\u001b[39mopt\u001b[38;5;241m.\u001b[39mstep(closure)\n\u001b[0;32m    363\u001b[0m \u001b[38;5;28;01mif\u001b[39;00m \u001b[38;5;28mself\u001b[39m\u001b[38;5;241m.\u001b[39mlr_scheduler \u001b[38;5;129;01mis\u001b[39;00m \u001b[38;5;129;01mnot\u001b[39;00m \u001b[38;5;28;01mNone\u001b[39;00m:\n\u001b[0;32m    364\u001b[0m     \u001b[38;5;28mself\u001b[39m\u001b[38;5;241m.\u001b[39mlr_scheduler\u001b[38;5;241m.\u001b[39mstep()\n",
      "File \u001b[1;32m~\\anaconda3\\Lib\\site-packages\\torch\\optim\\optimizer.py:385\u001b[0m, in \u001b[0;36mOptimizer.profile_hook_step.<locals>.wrapper\u001b[1;34m(*args, **kwargs)\u001b[0m\n\u001b[0;32m    380\u001b[0m         \u001b[38;5;28;01melse\u001b[39;00m:\n\u001b[0;32m    381\u001b[0m             \u001b[38;5;28;01mraise\u001b[39;00m \u001b[38;5;167;01mRuntimeError\u001b[39;00m(\n\u001b[0;32m    382\u001b[0m                 \u001b[38;5;124mf\u001b[39m\u001b[38;5;124m\"\u001b[39m\u001b[38;5;132;01m{\u001b[39;00mfunc\u001b[38;5;132;01m}\u001b[39;00m\u001b[38;5;124m must return None or a tuple of (new_args, new_kwargs), but got \u001b[39m\u001b[38;5;132;01m{\u001b[39;00mresult\u001b[38;5;132;01m}\u001b[39;00m\u001b[38;5;124m.\u001b[39m\u001b[38;5;124m\"\u001b[39m\n\u001b[0;32m    383\u001b[0m             )\n\u001b[1;32m--> 385\u001b[0m out \u001b[38;5;241m=\u001b[39m func(\u001b[38;5;241m*\u001b[39margs, \u001b[38;5;241m*\u001b[39m\u001b[38;5;241m*\u001b[39mkwargs)\n\u001b[0;32m    386\u001b[0m \u001b[38;5;28mself\u001b[39m\u001b[38;5;241m.\u001b[39m_optimizer_step_code()\n\u001b[0;32m    388\u001b[0m \u001b[38;5;66;03m# call optimizer step post hooks\u001b[39;00m\n",
      "File \u001b[1;32m~\\anaconda3\\Lib\\site-packages\\torch\\utils\\_contextlib.py:115\u001b[0m, in \u001b[0;36mcontext_decorator.<locals>.decorate_context\u001b[1;34m(*args, **kwargs)\u001b[0m\n\u001b[0;32m    112\u001b[0m \u001b[38;5;129m@functools\u001b[39m\u001b[38;5;241m.\u001b[39mwraps(func)\n\u001b[0;32m    113\u001b[0m \u001b[38;5;28;01mdef\u001b[39;00m \u001b[38;5;21mdecorate_context\u001b[39m(\u001b[38;5;241m*\u001b[39margs, \u001b[38;5;241m*\u001b[39m\u001b[38;5;241m*\u001b[39mkwargs):\n\u001b[0;32m    114\u001b[0m     \u001b[38;5;28;01mwith\u001b[39;00m ctx_factory():\n\u001b[1;32m--> 115\u001b[0m         \u001b[38;5;28;01mreturn\u001b[39;00m func(\u001b[38;5;241m*\u001b[39margs, \u001b[38;5;241m*\u001b[39m\u001b[38;5;241m*\u001b[39mkwargs)\n",
      "File \u001b[1;32m~\\anaconda3\\Lib\\site-packages\\torch\\optim\\lbfgs.py:428\u001b[0m, in \u001b[0;36mLBFGS.step\u001b[1;34m(self, closure)\u001b[0m\n\u001b[0;32m    425\u001b[0m     \u001b[38;5;28;01mdef\u001b[39;00m \u001b[38;5;21mobj_func\u001b[39m(x, t, d):\n\u001b[0;32m    426\u001b[0m         \u001b[38;5;28;01mreturn\u001b[39;00m \u001b[38;5;28mself\u001b[39m\u001b[38;5;241m.\u001b[39m_directional_evaluate(closure, x, t, d)\n\u001b[1;32m--> 428\u001b[0m     loss, flat_grad, t, ls_func_evals \u001b[38;5;241m=\u001b[39m _strong_wolfe(\n\u001b[0;32m    429\u001b[0m         obj_func, x_init, t, d, loss, flat_grad, gtd)\n\u001b[0;32m    430\u001b[0m \u001b[38;5;28mself\u001b[39m\u001b[38;5;241m.\u001b[39m_add_grad(t, d)\n\u001b[0;32m    431\u001b[0m opt_cond \u001b[38;5;241m=\u001b[39m flat_grad\u001b[38;5;241m.\u001b[39mabs()\u001b[38;5;241m.\u001b[39mmax() \u001b[38;5;241m<\u001b[39m\u001b[38;5;241m=\u001b[39m tolerance_grad\n",
      "File \u001b[1;32m~\\anaconda3\\Lib\\site-packages\\torch\\optim\\lbfgs.py:50\u001b[0m, in \u001b[0;36m_strong_wolfe\u001b[1;34m(obj_func, x, t, d, f, g, gtd, c1, c2, tolerance_change, max_ls)\u001b[0m\n\u001b[0;32m     48\u001b[0m g \u001b[38;5;241m=\u001b[39m g\u001b[38;5;241m.\u001b[39mclone(memory_format\u001b[38;5;241m=\u001b[39mtorch\u001b[38;5;241m.\u001b[39mcontiguous_format)\n\u001b[0;32m     49\u001b[0m \u001b[38;5;66;03m# evaluate objective and gradient using initial step\u001b[39;00m\n\u001b[1;32m---> 50\u001b[0m f_new, g_new \u001b[38;5;241m=\u001b[39m obj_func(x, t, d)\n\u001b[0;32m     51\u001b[0m ls_func_evals \u001b[38;5;241m=\u001b[39m \u001b[38;5;241m1\u001b[39m\n\u001b[0;32m     52\u001b[0m gtd_new \u001b[38;5;241m=\u001b[39m g_new\u001b[38;5;241m.\u001b[39mdot(d)\n",
      "File \u001b[1;32m~\\anaconda3\\Lib\\site-packages\\torch\\optim\\lbfgs.py:426\u001b[0m, in \u001b[0;36mLBFGS.step.<locals>.obj_func\u001b[1;34m(x, t, d)\u001b[0m\n\u001b[0;32m    425\u001b[0m \u001b[38;5;28;01mdef\u001b[39;00m \u001b[38;5;21mobj_func\u001b[39m(x, t, d):\n\u001b[1;32m--> 426\u001b[0m     \u001b[38;5;28;01mreturn\u001b[39;00m \u001b[38;5;28mself\u001b[39m\u001b[38;5;241m.\u001b[39m_directional_evaluate(closure, x, t, d)\n",
      "File \u001b[1;32m~\\anaconda3\\Lib\\site-packages\\torch\\optim\\lbfgs.py:280\u001b[0m, in \u001b[0;36mLBFGS._directional_evaluate\u001b[1;34m(self, closure, x, t, d)\u001b[0m\n\u001b[0;32m    278\u001b[0m \u001b[38;5;28;01mdef\u001b[39;00m \u001b[38;5;21m_directional_evaluate\u001b[39m(\u001b[38;5;28mself\u001b[39m, closure, x, t, d):\n\u001b[0;32m    279\u001b[0m     \u001b[38;5;28mself\u001b[39m\u001b[38;5;241m.\u001b[39m_add_grad(t, d)\n\u001b[1;32m--> 280\u001b[0m     loss \u001b[38;5;241m=\u001b[39m \u001b[38;5;28mfloat\u001b[39m(closure())\n\u001b[0;32m    281\u001b[0m     flat_grad \u001b[38;5;241m=\u001b[39m \u001b[38;5;28mself\u001b[39m\u001b[38;5;241m.\u001b[39m_gather_flat_grad()\n\u001b[0;32m    282\u001b[0m     \u001b[38;5;28mself\u001b[39m\u001b[38;5;241m.\u001b[39m_set_param(x)\n",
      "File \u001b[1;32m~\\anaconda3\\Lib\\site-packages\\torch\\utils\\_device.py:77\u001b[0m, in \u001b[0;36mDeviceContext.__torch_function__\u001b[1;34m(self, func, types, args, kwargs)\u001b[0m\n\u001b[0;32m     75\u001b[0m \u001b[38;5;28;01mif\u001b[39;00m func \u001b[38;5;129;01min\u001b[39;00m _device_constructors() \u001b[38;5;129;01mand\u001b[39;00m kwargs\u001b[38;5;241m.\u001b[39mget(\u001b[38;5;124m'\u001b[39m\u001b[38;5;124mdevice\u001b[39m\u001b[38;5;124m'\u001b[39m) \u001b[38;5;129;01mis\u001b[39;00m \u001b[38;5;28;01mNone\u001b[39;00m:\n\u001b[0;32m     76\u001b[0m     kwargs[\u001b[38;5;124m'\u001b[39m\u001b[38;5;124mdevice\u001b[39m\u001b[38;5;124m'\u001b[39m] \u001b[38;5;241m=\u001b[39m \u001b[38;5;28mself\u001b[39m\u001b[38;5;241m.\u001b[39mdevice\n\u001b[1;32m---> 77\u001b[0m \u001b[38;5;28;01mreturn\u001b[39;00m func(\u001b[38;5;241m*\u001b[39margs, \u001b[38;5;241m*\u001b[39m\u001b[38;5;241m*\u001b[39mkwargs)\n",
      "\u001b[1;31mKeyboardInterrupt\u001b[0m: "
     ]
    }
   ],
   "source": [
    "model.compile(\"L-BFGS\", loss_weights=[1, 1, 1, 1, 1] + [1] * 7)\n",
    "losshistory, train_state = model.train()"
   ]
  },
  {
   "cell_type": "code",
   "execution_count": null,
   "id": "67f76bb8-2b89-4ea8-a8bb-687c7cf1cafb",
   "metadata": {},
   "outputs": [],
   "source": []
  }
 ],
 "metadata": {
  "kernelspec": {
   "display_name": "Python 3 (ipykernel)",
   "language": "python",
   "name": "python3"
  },
  "language_info": {
   "codemirror_mode": {
    "name": "ipython",
    "version": 3
   },
   "file_extension": ".py",
   "mimetype": "text/x-python",
   "name": "python",
   "nbconvert_exporter": "python",
   "pygments_lexer": "ipython3",
   "version": "3.11.5"
  }
 },
 "nbformat": 4,
 "nbformat_minor": 5
}
